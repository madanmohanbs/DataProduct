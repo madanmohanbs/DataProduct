{
  "nbformat": 4,
  "nbformat_minor": 0,
  "metadata": {
    "colab": {
      "name": "Manual.ipynb",
      "provenance": [],
      "authorship_tag": "ABX9TyMJKyQwzyjOfChBlly/6xH5",
      "include_colab_link": true
    },
    "kernelspec": {
      "name": "python3",
      "display_name": "Python 3"
    }
  },
  "cells": [
    {
      "cell_type": "markdown",
      "metadata": {
        "id": "view-in-github",
        "colab_type": "text"
      },
      "source": [
        "<a href=\"https://colab.research.google.com/github/madanmohanbs/DataProduct/blob/master/Manual.ipynb\" target=\"_parent\"><img src=\"https://colab.research.google.com/assets/colab-badge.svg\" alt=\"Open In Colab\"/></a>"
      ]
    },
    {
      "cell_type": "code",
      "metadata": {
        "id": "M9wmr7DC7a2q",
        "colab_type": "code",
        "colab": {}
      },
      "source": [
        "%pip install pyspark"
      ],
      "execution_count": null,
      "outputs": []
    },
    {
      "cell_type": "code",
      "metadata": {
        "id": "_WsC3ekG1dkP",
        "colab_type": "code",
        "colab": {}
      },
      "source": [
        "import os\n",
        "os.environ[\"SPARK_HOME\"] = \"/usr/local/lib/python3.6/dist-packages/pyspark\""
      ],
      "execution_count": 26,
      "outputs": []
    },
    {
      "cell_type": "code",
      "metadata": {
        "id": "nvcB8bXV9f0f",
        "colab_type": "code",
        "colab": {
          "base_uri": "https://localhost:8080/",
          "height": 63
        },
        "outputId": "289d71cf-86f5-4979-94d5-aec98f3d4032"
      },
      "source": [
        "%pip install findspark\n"
      ],
      "execution_count": 33,
      "outputs": [
        {
          "output_type": "stream",
          "text": [
            "Requirement already satisfied: findspark in /usr/local/lib/python3.6/dist-packages (1.4.2)\n"
          ],
          "name": "stdout"
        }
      ]
    },
    {
      "cell_type": "code",
      "metadata": {
        "id": "_LW8_mdQ-EYU",
        "colab_type": "code",
        "colab": {}
      },
      "source": [
        "import findspark\n",
        "findspark.init()"
      ],
      "execution_count": 34,
      "outputs": []
    },
    {
      "cell_type": "code",
      "metadata": {
        "id": "PcQ-xhrg9B9c",
        "colab_type": "code",
        "colab": {}
      },
      "source": [
        "import pyspark\n",
        "spark = pyspark.sql.SparkSession.builder.master(\"local[*]\").getOrCreate()\n"
      ],
      "execution_count": 37,
      "outputs": []
    },
    {
      "cell_type": "code",
      "metadata": {
        "id": "zLTy7nqWzJHK",
        "colab_type": "code",
        "colab": {
          "base_uri": "https://localhost:8080/",
          "height": 38
        },
        "outputId": "ccc0eb89-f919-471a-fc57-64e7b2f6c711"
      },
      "source": [
        "spark.version"
      ],
      "execution_count": 38,
      "outputs": [
        {
          "output_type": "execute_result",
          "data": {
            "application/vnd.google.colaboratory.intrinsic+json": {
              "type": "string"
            },
            "text/plain": [
              "'3.0.0'"
            ]
          },
          "metadata": {
            "tags": []
          },
          "execution_count": 38
        }
      ]
    },
    {
      "cell_type": "code",
      "metadata": {
        "id": "8pTousaVBMrR",
        "colab_type": "code",
        "colab": {
          "base_uri": "https://localhost:8080/",
          "height": 35
        },
        "outputId": "4db35b6e-c429-4dbc-871b-2f4e724956b8"
      },
      "source": [
        "df = spark.read.json(\"sample_data/anscombe.json\")\n",
        "df.head()\n"
      ],
      "execution_count": 39,
      "outputs": [
        {
          "output_type": "execute_result",
          "data": {
            "text/plain": [
              "Row(Series=None, X=None, Y=None, _corrupt_record='[')"
            ]
          },
          "metadata": {
            "tags": []
          },
          "execution_count": 39
        }
      ]
    },
    {
      "cell_type": "code",
      "metadata": {
        "id": "1gvW96gHC9fl",
        "colab_type": "code",
        "colab": {
          "base_uri": "https://localhost:8080/",
          "height": 63
        },
        "outputId": "f26880f6-4e84-4740-d661-2effebaaa295"
      },
      "source": [
        "!mkdir data\n",
        "!ls"
      ],
      "execution_count": 59,
      "outputs": [
        {
          "output_type": "stream",
          "text": [
            "mkdir: cannot create directory ‘data’: File exists\n",
            "data  sample_data\n"
          ],
          "name": "stdout"
        }
      ]
    },
    {
      "cell_type": "code",
      "metadata": {
        "id": "5xQmHg9WEqNi",
        "colab_type": "code",
        "colab": {}
      },
      "source": [
        "!cat data/test.csv"
      ],
      "execution_count": null,
      "outputs": []
    },
    {
      "cell_type": "code",
      "metadata": {
        "id": "nccAb-UKE6nJ",
        "colab_type": "code",
        "colab": {}
      },
      "source": [
        "!ls data\n",
        "!cat data/test.csv"
      ],
      "execution_count": null,
      "outputs": []
    },
    {
      "cell_type": "code",
      "metadata": {
        "id": "yFoWZ8jvBv9s",
        "colab_type": "code",
        "colab": {}
      },
      "source": [
        "with open(\"data/test.csv\" ,'wt') as f:\n",
        "  for x,y in zip(range(10),range(10,101,10)):\n",
        "    print(x,y)\n",
        "    f.write(f'{x},{y}\\n')"
      ],
      "execution_count": null,
      "outputs": []
    },
    {
      "cell_type": "code",
      "metadata": {
        "id": "6c_jlijbFowC",
        "colab_type": "code",
        "colab": {
          "base_uri": "https://localhost:8080/",
          "height": 107
        },
        "outputId": "2f4cc6e0-04c1-434b-983c-941bf7beebfe"
      },
      "source": [
        "df = spark.read.csv(\"data/test.csv\")\n",
        "df = df.toDF(\"id\",\"marks\")\n",
        "df.head(5)"
      ],
      "execution_count": 69,
      "outputs": [
        {
          "output_type": "execute_result",
          "data": {
            "text/plain": [
              "[Row(id='0', marks='10'),\n",
              " Row(id='1', marks='20'),\n",
              " Row(id='2', marks='30'),\n",
              " Row(id='3', marks='40'),\n",
              " Row(id='4', marks='50')]"
            ]
          },
          "metadata": {
            "tags": []
          },
          "execution_count": 69
        }
      ]
    },
    {
      "cell_type": "code",
      "metadata": {
        "id": "McUl5fzgLCHJ",
        "colab_type": "code",
        "colab": {
          "base_uri": "https://localhost:8080/",
          "height": 35
        },
        "outputId": "eab1f9e8-3e7a-4327-c20b-74fb799560c6"
      },
      "source": [
        "df.dtypes\n",
        "df.printSchema\n",
        "df.count()\n",
        "df."
      ],
      "execution_count": 74,
      "outputs": [
        {
          "output_type": "execute_result",
          "data": {
            "text/plain": [
              "10"
            ]
          },
          "metadata": {
            "tags": []
          },
          "execution_count": 74
        }
      ]
    }
  ]
}